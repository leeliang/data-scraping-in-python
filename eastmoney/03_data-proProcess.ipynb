{
 "cells": [
  {
   "cell_type": "code",
   "execution_count": 1,
   "metadata": {
    "collapsed": true
   },
   "outputs": [],
   "source": [
    "import numpy as np\n",
    "import pandas as pd\n",
    "import os\n",
    "import matplotlib.pyplot as plt\n",
    "# Set Default Encoding\n",
    "import sys\n",
    "stdout = sys.stdout\n",
    "reload(sys)\n",
    "sys.setdefaultencoding('utf-8')\n",
    "sys.stdout = stdout"
   ]
  },
  {
   "cell_type": "markdown",
   "metadata": {},
   "source": [
    "# 预处理\n",
    "## 判断是否存在NAV数据，并生成LIST"
   ]
  },
  {
   "cell_type": "code",
   "execution_count": 2,
   "metadata": {},
   "outputs": [],
   "source": [
    "files = os.listdir('./fundNAVData')\n",
    "NAV_list = []\n",
    "for file_name in files:\n",
    "    path_file = os.path.join(os.getcwd()+'/fundNAVData',file_name)\n",
    "    if os.path.getsize(path_file) != 0:\n",
    "        NAV_list.append(file_name.split('.')[0])   "
   ]
  },
  {
   "cell_type": "code",
   "execution_count": 4,
   "metadata": {},
   "outputs": [
    {
     "data": {
      "text/html": [
       "<div>\n",
       "<table border=\"1\" class=\"dataframe\">\n",
       "  <thead>\n",
       "    <tr style=\"text-align: right;\">\n",
       "      <th></th>\n",
       "      <th>code</th>\n",
       "    </tr>\n",
       "  </thead>\n",
       "  <tbody>\n",
       "    <tr>\n",
       "      <th>0</th>\n",
       "      <td>000001</td>\n",
       "    </tr>\n",
       "  </tbody>\n",
       "</table>\n",
       "</div>"
      ],
      "text/plain": [
       "     code\n",
       "0  000001"
      ]
     },
     "execution_count": 4,
     "metadata": {},
     "output_type": "execute_result"
    }
   ],
   "source": [
    "NAV_list = pd.DataFrame(NAV_list,columns=['code'])\n",
    "NAV_list.head(1)"
   ]
  },
  {
   "cell_type": "markdown",
   "metadata": {},
   "source": [
    "## 求取NAV_list和FundList的交集"
   ]
  },
  {
   "cell_type": "code",
   "execution_count": 9,
   "metadata": {},
   "outputs": [
    {
     "data": {
      "text/html": [
       "<div>\n",
       "<table border=\"1\" class=\"dataframe\">\n",
       "  <thead>\n",
       "    <tr style=\"text-align: right;\">\n",
       "      <th></th>\n",
       "      <th>code</th>\n",
       "      <th>name</th>\n",
       "      <th>url</th>\n",
       "    </tr>\n",
       "  </thead>\n",
       "  <tbody>\n",
       "    <tr>\n",
       "      <th>0</th>\n",
       "      <td>000001</td>\n",
       "      <td>华夏成长</td>\n",
       "      <td>http://fund.eastmoney.com/000001.html</td>\n",
       "    </tr>\n",
       "  </tbody>\n",
       "</table>\n",
       "</div>"
      ],
      "text/plain": [
       "     code  name                                    url\n",
       "0  000001  华夏成长  http://fund.eastmoney.com/000001.html"
      ]
     },
     "execution_count": 9,
     "metadata": {},
     "output_type": "execute_result"
    }
   ],
   "source": [
    "fund_list = pd.read_csv('FundList.csv',header=None,names=['code','name','url'],dtype={'code':'str'})\n",
    "fund_list.head(1)"
   ]
  },
  {
   "cell_type": "code",
   "execution_count": 11,
   "metadata": {},
   "outputs": [
    {
     "data": {
      "text/html": [
       "<div>\n",
       "<table border=\"1\" class=\"dataframe\">\n",
       "  <thead>\n",
       "    <tr style=\"text-align: right;\">\n",
       "      <th></th>\n",
       "      <th>code</th>\n",
       "      <th>name</th>\n",
       "      <th>url</th>\n",
       "    </tr>\n",
       "  </thead>\n",
       "  <tbody>\n",
       "    <tr>\n",
       "      <th>0</th>\n",
       "      <td>000001</td>\n",
       "      <td>华夏成长</td>\n",
       "      <td>http://fund.eastmoney.com/000001.html</td>\n",
       "    </tr>\n",
       "    <tr>\n",
       "      <th>1</th>\n",
       "      <td>000003</td>\n",
       "      <td>中海可转债A</td>\n",
       "      <td>http://fund.eastmoney.com/000003.html</td>\n",
       "    </tr>\n",
       "    <tr>\n",
       "      <th>2</th>\n",
       "      <td>000004</td>\n",
       "      <td>中海可转债C</td>\n",
       "      <td>http://fund.eastmoney.com/000004.html</td>\n",
       "    </tr>\n",
       "    <tr>\n",
       "      <th>3</th>\n",
       "      <td>000005</td>\n",
       "      <td>嘉实增强信用定期债券</td>\n",
       "      <td>http://fund.eastmoney.com/000005.html</td>\n",
       "    </tr>\n",
       "    <tr>\n",
       "      <th>4</th>\n",
       "      <td>000007</td>\n",
       "      <td>鹏华国企债债券</td>\n",
       "      <td>http://fund.eastmoney.com/000007.html</td>\n",
       "    </tr>\n",
       "  </tbody>\n",
       "</table>\n",
       "</div>"
      ],
      "text/plain": [
       "     code        name                                    url\n",
       "0  000001        华夏成长  http://fund.eastmoney.com/000001.html\n",
       "1  000003      中海可转债A  http://fund.eastmoney.com/000003.html\n",
       "2  000004      中海可转债C  http://fund.eastmoney.com/000004.html\n",
       "3  000005  嘉实增强信用定期债券  http://fund.eastmoney.com/000005.html\n",
       "4  000007     鹏华国企债债券  http://fund.eastmoney.com/000007.html"
      ]
     },
     "execution_count": 11,
     "metadata": {},
     "output_type": "execute_result"
    }
   ],
   "source": [
    "NAV_fund_list = pd.merge(NAV_list,fund_list,on=['code'],how='left')\n",
    "NAV_fund_list.head()"
   ]
  },
  {
   "cell_type": "code",
   "execution_count": 12,
   "metadata": {},
   "outputs": [
    {
     "data": {
      "text/html": [
       "<div>\n",
       "<table border=\"1\" class=\"dataframe\">\n",
       "  <thead>\n",
       "    <tr style=\"text-align: right;\">\n",
       "      <th></th>\n",
       "      <th>code</th>\n",
       "      <th>type</th>\n",
       "      <th>manager</th>\n",
       "      <th>company</th>\n",
       "    </tr>\n",
       "  </thead>\n",
       "  <tbody>\n",
       "    <tr>\n",
       "      <th>0</th>\n",
       "      <td>000001</td>\n",
       "      <td>混合型</td>\n",
       "      <td>董阳阳</td>\n",
       "      <td>华夏基金</td>\n",
       "    </tr>\n",
       "  </tbody>\n",
       "</table>\n",
       "</div>"
      ],
      "text/plain": [
       "     code type manager company\n",
       "0  000001  混合型     董阳阳    华夏基金"
      ]
     },
     "execution_count": 12,
     "metadata": {},
     "output_type": "execute_result"
    }
   ],
   "source": [
    "fund_info = pd.read_csv('FundInfo.csv',header=None,names=['code','type','manager','company'],dtype={'code':str})\n",
    "fund_info.head(1)"
   ]
  },
  {
   "cell_type": "code",
   "execution_count": 13,
   "metadata": {},
   "outputs": [
    {
     "data": {
      "text/html": [
       "<div>\n",
       "<table border=\"1\" class=\"dataframe\">\n",
       "  <thead>\n",
       "    <tr style=\"text-align: right;\">\n",
       "      <th></th>\n",
       "      <th>code</th>\n",
       "      <th>name</th>\n",
       "      <th>url</th>\n",
       "      <th>type</th>\n",
       "      <th>manager</th>\n",
       "      <th>company</th>\n",
       "    </tr>\n",
       "  </thead>\n",
       "  <tbody>\n",
       "    <tr>\n",
       "      <th>0</th>\n",
       "      <td>000001</td>\n",
       "      <td>华夏成长</td>\n",
       "      <td>http://fund.eastmoney.com/000001.html</td>\n",
       "      <td>混合型</td>\n",
       "      <td>董阳阳</td>\n",
       "      <td>华夏基金</td>\n",
       "    </tr>\n",
       "    <tr>\n",
       "      <th>1</th>\n",
       "      <td>000003</td>\n",
       "      <td>中海可转债A</td>\n",
       "      <td>http://fund.eastmoney.com/000003.html</td>\n",
       "      <td>债券型</td>\n",
       "      <td>江小震</td>\n",
       "      <td>中海基金</td>\n",
       "    </tr>\n",
       "    <tr>\n",
       "      <th>2</th>\n",
       "      <td>000004</td>\n",
       "      <td>中海可转债C</td>\n",
       "      <td>http://fund.eastmoney.com/000004.html</td>\n",
       "      <td>债券型</td>\n",
       "      <td>江小震</td>\n",
       "      <td>中海基金</td>\n",
       "    </tr>\n",
       "    <tr>\n",
       "      <th>3</th>\n",
       "      <td>000005</td>\n",
       "      <td>嘉实增强信用定期债券</td>\n",
       "      <td>http://fund.eastmoney.com/000005.html</td>\n",
       "      <td>定开债券</td>\n",
       "      <td>刘宁</td>\n",
       "      <td>嘉实基金</td>\n",
       "    </tr>\n",
       "    <tr>\n",
       "      <th>4</th>\n",
       "      <td>000007</td>\n",
       "      <td>鹏华国企债债券</td>\n",
       "      <td>http://fund.eastmoney.com/000007.html</td>\n",
       "      <td>债券型</td>\n",
       "      <td>刘涛</td>\n",
       "      <td>鹏华基金</td>\n",
       "    </tr>\n",
       "  </tbody>\n",
       "</table>\n",
       "</div>"
      ],
      "text/plain": [
       "     code        name                                    url  type manager  \\\n",
       "0  000001        华夏成长  http://fund.eastmoney.com/000001.html   混合型     董阳阳   \n",
       "1  000003      中海可转债A  http://fund.eastmoney.com/000003.html   债券型     江小震   \n",
       "2  000004      中海可转债C  http://fund.eastmoney.com/000004.html   债券型     江小震   \n",
       "3  000005  嘉实增强信用定期债券  http://fund.eastmoney.com/000005.html  定开债券      刘宁   \n",
       "4  000007     鹏华国企债债券  http://fund.eastmoney.com/000007.html   债券型      刘涛   \n",
       "\n",
       "  company  \n",
       "0    华夏基金  \n",
       "1    中海基金  \n",
       "2    中海基金  \n",
       "3    嘉实基金  \n",
       "4    鹏华基金  "
      ]
     },
     "execution_count": 13,
     "metadata": {},
     "output_type": "execute_result"
    }
   ],
   "source": [
    "final_list = pd.merge(NAV_fund_list,fund_info,on=['code'])\n",
    "final_list.head()"
   ]
  },
  {
   "cell_type": "code",
   "execution_count": 18,
   "metadata": {},
   "outputs": [
    {
     "data": {
      "text/html": [
       "<div>\n",
       "<table border=\"1\" class=\"dataframe\">\n",
       "  <thead>\n",
       "    <tr style=\"text-align: right;\">\n",
       "      <th></th>\n",
       "      <th>code</th>\n",
       "      <th>name</th>\n",
       "      <th>type</th>\n",
       "      <th>manager</th>\n",
       "      <th>company</th>\n",
       "    </tr>\n",
       "  </thead>\n",
       "  <tbody>\n",
       "    <tr>\n",
       "      <th>0</th>\n",
       "      <td>000001</td>\n",
       "      <td>华夏成长</td>\n",
       "      <td>混合型</td>\n",
       "      <td>董阳阳</td>\n",
       "      <td>华夏基金</td>\n",
       "    </tr>\n",
       "    <tr>\n",
       "      <th>1</th>\n",
       "      <td>000003</td>\n",
       "      <td>中海可转债A</td>\n",
       "      <td>债券型</td>\n",
       "      <td>江小震</td>\n",
       "      <td>中海基金</td>\n",
       "    </tr>\n",
       "    <tr>\n",
       "      <th>2</th>\n",
       "      <td>000004</td>\n",
       "      <td>中海可转债C</td>\n",
       "      <td>债券型</td>\n",
       "      <td>江小震</td>\n",
       "      <td>中海基金</td>\n",
       "    </tr>\n",
       "    <tr>\n",
       "      <th>3</th>\n",
       "      <td>000005</td>\n",
       "      <td>嘉实增强信用定期债券</td>\n",
       "      <td>定开债券</td>\n",
       "      <td>刘宁</td>\n",
       "      <td>嘉实基金</td>\n",
       "    </tr>\n",
       "    <tr>\n",
       "      <th>4</th>\n",
       "      <td>000007</td>\n",
       "      <td>鹏华国企债债券</td>\n",
       "      <td>债券型</td>\n",
       "      <td>刘涛</td>\n",
       "      <td>鹏华基金</td>\n",
       "    </tr>\n",
       "  </tbody>\n",
       "</table>\n",
       "</div>"
      ],
      "text/plain": [
       "     code        name  type manager company\n",
       "0  000001        华夏成长   混合型     董阳阳    华夏基金\n",
       "1  000003      中海可转债A   债券型     江小震    中海基金\n",
       "2  000004      中海可转债C   债券型     江小震    中海基金\n",
       "3  000005  嘉实增强信用定期债券  定开债券      刘宁    嘉实基金\n",
       "4  000007     鹏华国企债债券   债券型      刘涛    鹏华基金"
      ]
     },
     "execution_count": 18,
     "metadata": {},
     "output_type": "execute_result"
    }
   ],
   "source": [
    "final_list.drop(['url'],axis=1,inplace=True)\n",
    "final_list.head()\n",
    "final_list.to_csv"
   ]
  },
  {
   "cell_type": "code",
   "execution_count": null,
   "metadata": {
    "collapsed": true
   },
   "outputs": [],
   "source": []
  }
 ],
 "metadata": {
  "kernelspec": {
   "display_name": "Python 2",
   "language": "python",
   "name": "python2"
  },
  "language_info": {
   "codemirror_mode": {
    "name": "ipython",
    "version": 2
   },
   "file_extension": ".py",
   "mimetype": "text/x-python",
   "name": "python",
   "nbconvert_exporter": "python",
   "pygments_lexer": "ipython2",
   "version": "2.7.14"
  },
  "toc": {
   "colors": {
    "hover_highlight": "#DAA520",
    "navigate_num": "#000000",
    "navigate_text": "#333333",
    "running_highlight": "#FF0000",
    "selected_highlight": "#FFD700",
    "sidebar_border": "#EEEEEE",
    "wrapper_background": "#FFFFFF"
   },
   "moveMenuLeft": true,
   "nav_menu": {
    "height": "12px",
    "width": "252px"
   },
   "navigate_menu": true,
   "number_sections": true,
   "sideBar": true,
   "threshold": 4,
   "toc_cell": false,
   "toc_section_display": "block",
   "toc_window_display": false,
   "widenNotebook": false
  }
 },
 "nbformat": 4,
 "nbformat_minor": 2
}
