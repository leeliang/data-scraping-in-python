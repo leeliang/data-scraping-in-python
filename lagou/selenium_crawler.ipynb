{
 "cells": [
  {
   "cell_type": "code",
   "execution_count": null,
   "metadata": {},
   "outputs": [],
   "source": [
    "import requests\n",
    "from lxml import etree\n",
    "import json\n",
    "import os\n",
    "from selenium import webdriver\n",
    "import pandas as pd\n",
    "# set default encoding\n",
    "import sys\n",
    "stdout = sys.stdout\n",
    "reload(sys)\n",
    "sys.setdefaultencoding('utf-8')\n",
    "sys.stdout = stdout"
   ]
  },
  {
   "cell_type": "code",
   "execution_count": null,
   "metadata": {},
   "outputs": [],
   "source": [
    "# heads.txt 从浏览器复制\n",
    "with open(\"heads.txt\") as f:\n",
    "    txt = f.readlines()\n",
    "headers = {str(i.split(\": \")[0]):str(i.split(\": \")[1].strip('\\n').strip('\\r')) for i in txt}"
   ]
  },
  {
   "cell_type": "code",
   "execution_count": null,
   "metadata": {},
   "outputs": [],
   "source": [
    "url = \"https://www.lagou.com/jobs/positionAjax.json?city=%E4%B8%8A%E6%B5%B7\"\n",
    "kd = u'数据挖掘'\n",
    "data = {\n",
    "    'first': False,\n",
    "    'pn': 1,\n",
    "    'kd': kd,\n",
    "}"
   ]
  },
  {
   "cell_type": "code",
   "execution_count": null,
   "metadata": {},
   "outputs": [],
   "source": [
    "try:\n",
    "    r = requests.post(url=url,headers=headers, data=data)\n",
    "    r.raise_for_status()\n",
    "except Exception as e:\n",
    "    print \"Failed to open url:{}\".format(e)"
   ]
  },
  {
   "cell_type": "code",
   "execution_count": null,
   "metadata": {},
   "outputs": [],
   "source": [
    "total_count = r.json()[\"content\"][\"positionResult\"][\"totalCount\"]\n",
    "total_page = min(total_count/15 + 1, 30)\n",
    "all_result = []\n",
    "browser = webdriver.Chrome()\n",
    "for page in range(total_page):\n",
    "    if page == 0:\n",
    "        data = {'first': True, 'pn':1, 'kd': kd,}\n",
    "    else:\n",
    "        data = {'first': False, 'pn':page+1, 'kd': kd,}\n",
    "    r = requests.post(url=url,headers=headers, data=data)\n",
    "    #\n",
    "    tabel = r.json()\n",
    "    for pos_no in range(15):\n",
    "        item = {}\n",
    "        inf = tabel['content']['positionResult']['result'][pos_no]\n",
    "        position_id = inf['positionId']\n",
    "        page_url = \"https://www.lagou.com/jobs/{}.html\".format(position_id)\n",
    "        browser.get(page_url)\n",
    "        item['des'] = browser.find_element_by_xpath(\"//dl[@id='job_detail']/dd[@class='job_bt']\").text\n",
    "        item['size'] = inf['companySize']\n",
    "        item['edu'] = inf['education']\n",
    "        item['salary'] = inf['salary']\n",
    "        item['labels'] = inf['companyLabelList']\n",
    "        item['name'] = inf['companyFullName']\n",
    "        item['work_year'] = inf['workYear']\n",
    "        item['advantage'] = inf['positionAdvantage']\n",
    "        item['finance_stage'] = inf['financeStage']\n",
    "        item['district'] = inf['district']\n",
    "        item['industry_field'] = inf['industryField']\n",
    "        item['position_id'] = position_id\n",
    "        all_result.append(item)"
   ]
  },
  {
   "cell_type": "code",
   "execution_count": null,
   "metadata": {},
   "outputs": [],
   "source": [
    "result = pd.DataFrame(all_result)\n",
    "result.to_csv(\"data_analysis.csv\")"
   ]
  },
  {
   "cell_type": "code",
   "execution_count": null,
   "metadata": {},
   "outputs": [],
   "source": []
  },
  {
   "cell_type": "code",
   "execution_count": null,
   "metadata": {},
   "outputs": [],
   "source": []
  }
 ],
 "metadata": {
  "kernelspec": {
   "display_name": "Python 2",
   "language": "python",
   "name": "python2"
  },
  "language_info": {
   "codemirror_mode": {
    "name": "ipython",
    "version": 2
   },
   "file_extension": ".py",
   "mimetype": "text/x-python",
   "name": "python",
   "nbconvert_exporter": "python",
   "pygments_lexer": "ipython2",
   "version": "2.7.14"
  },
  "toc": {
   "colors": {
    "hover_highlight": "#DAA520",
    "navigate_num": "#000000",
    "navigate_text": "#333333",
    "running_highlight": "#FF0000",
    "selected_highlight": "#FFD700",
    "sidebar_border": "#EEEEEE",
    "wrapper_background": "#FFFFFF"
   },
   "moveMenuLeft": true,
   "nav_menu": {
    "height": "12px",
    "width": "252px"
   },
   "navigate_menu": true,
   "number_sections": true,
   "sideBar": true,
   "threshold": 4,
   "toc_cell": false,
   "toc_section_display": "block",
   "toc_window_display": false,
   "widenNotebook": false
  }
 },
 "nbformat": 4,
 "nbformat_minor": 2
}
