{
 "cells": [
  {
   "cell_type": "markdown",
   "metadata": {},
   "source": [
    "** Python网络爬虫与信息提取-\n",
    "\n",
    "# 正则表达式"
   ]
  },
  {
   "cell_type": "markdown",
   "metadata": {},
   "source": [
    "| 字符 | 含义|\n",
    "|------|:------:|\n",
    "|.     | 单个字符|\n",
    "|[]    |字符集中的单个字符|\n",
    "|[^]   | 非字符集|\n",
    "|\\*    | 前一个字符的0个或无限次扩展|\n",
    "|+    | 前一个字符的1次或无限次扩展|\n",
    "|?    | 前一个字符的0次或1次扩展|\n",
    "|&#124;  | 左右表达式任意一个 |\n",
    "|{m}     | 扩展前一个字符m次|\n",
    "|{m,n}   | 扩展前一个字符m至n次|\n",
    "|^       | 匹配字符串开头|\n",
    "|$       | 匹配字符串结尾|\n",
    "|()      | 分组标记|\n",
    "|\\d      | 数字|\n",
    "|\\w      | 数字、字母和下划线|\n"
   ]
  },
  {
   "cell_type": "markdown",
   "metadata": {},
   "source": [
    "# re库"
   ]
  },
  {
   "cell_type": "markdown",
   "metadata": {},
   "source": [
    "## re函数"
   ]
  },
  {
   "cell_type": "code",
   "execution_count": 1,
   "metadata": {},
   "outputs": [
    {
     "data": {
      "text/plain": [
       "'200030'"
      ]
     },
     "execution_count": 1,
     "metadata": {},
     "output_type": "execute_result"
    }
   ],
   "source": [
    "import re\n",
    "match = re.search(r'[1-9]\\d{5}','shanghai 200030',flags=0)\n",
    "match.group(0)"
   ]
  },
  {
   "cell_type": "code",
   "execution_count": 2,
   "metadata": {},
   "outputs": [
    {
     "name": "stdout",
     "output_type": "stream",
     "text": [
      "None\n"
     ]
    }
   ],
   "source": [
    "match = re.match(r'[1-9]\\d{5}','shanghai 200030',flags=0)\n",
    "print match"
   ]
  },
  {
   "cell_type": "code",
   "execution_count": 3,
   "metadata": {},
   "outputs": [
    {
     "data": {
      "text/plain": [
       "['200030', '400055']"
      ]
     },
     "execution_count": 3,
     "metadata": {},
     "output_type": "execute_result"
    }
   ],
   "source": [
    "ls = re.findall(r'[1-9]\\d{5}','shanghai200030 pingjiang400055',flags=0)\n",
    "ls"
   ]
  },
  {
   "cell_type": "code",
   "execution_count": 4,
   "metadata": {},
   "outputs": [
    {
     "data": {
      "text/plain": [
       "['shanghai', ' pingjiang400055']"
      ]
     },
     "execution_count": 4,
     "metadata": {},
     "output_type": "execute_result"
    }
   ],
   "source": [
    "re.split(r'[1-9]\\d{5}','shanghai200030 pingjiang400055',maxsplit=1,flags=0)"
   ]
  },
  {
   "cell_type": "code",
   "execution_count": 5,
   "metadata": {},
   "outputs": [
    {
     "name": "stdout",
     "output_type": "stream",
     "text": [
      "200030\n",
      "400055\n"
     ]
    }
   ],
   "source": [
    "ls = re.finditer(r'[1-9]\\d{5}','shanghai200030 pingjiang400055',flags=0)\n",
    "for m in ls:\n",
    "    print m.group(0)"
   ]
  },
  {
   "cell_type": "code",
   "execution_count": 6,
   "metadata": {},
   "outputs": [
    {
     "data": {
      "text/plain": [
       "'shanghai:zip-code pingjiang:zip-code'"
      ]
     },
     "execution_count": 6,
     "metadata": {},
     "output_type": "execute_result"
    }
   ],
   "source": [
    "re.sub(r'[1-9]\\d{5}',':zip-code','shanghai200040 pingjiang400055',count=0,flags=0)"
   ]
  },
  {
   "cell_type": "markdown",
   "metadata": {},
   "source": [
    "## re编译模式"
   ]
  },
  {
   "cell_type": "code",
   "execution_count": 7,
   "metadata": {},
   "outputs": [
    {
     "data": {
      "text/plain": [
       "'200030'"
      ]
     },
     "execution_count": 7,
     "metadata": {},
     "output_type": "execute_result"
    }
   ],
   "source": [
    "regex = re.compile('[1-9]\\d{5}',flags=0)\n",
    "regex.search('shanghai200030').group(0)"
   ]
  },
  {
   "cell_type": "markdown",
   "metadata": {},
   "source": [
    "## match对象"
   ]
  },
  {
   "cell_type": "code",
   "execution_count": 8,
   "metadata": {},
   "outputs": [
    {
     "name": "stdout",
     "output_type": "stream",
     "text": [
      "<type '_sre.SRE_Match'>\n",
      "shanghai 200030\n",
      "0\n",
      "15\n"
     ]
    },
    {
     "data": {
      "text/plain": [
       "re.compile(r'[1-9]\\d{5}')"
      ]
     },
     "execution_count": 8,
     "metadata": {},
     "output_type": "execute_result"
    }
   ],
   "source": [
    "match = re.search(r'[1-9]\\d{5}','shanghai 200030',flags=0)\n",
    "print type(match)\n",
    "print match.string\n",
    "print match.pos\n",
    "print match.endpos\n",
    "match.re"
   ]
  },
  {
   "cell_type": "code",
   "execution_count": 9,
   "metadata": {},
   "outputs": [
    {
     "name": "stdout",
     "output_type": "stream",
     "text": [
      "200030\n",
      "9\n",
      "15\n",
      "(9, 15)\n"
     ]
    }
   ],
   "source": [
    "print match.group(0)\n",
    "print match.start()\n",
    "print match.end()\n",
    "print match.span()"
   ]
  },
  {
   "cell_type": "markdown",
   "metadata": {},
   "source": [
    "# 淘宝比价实例"
   ]
  },
  {
   "cell_type": "code",
   "execution_count": 10,
   "metadata": {},
   "outputs": [
    {
     "name": "stdout",
     "output_type": "stream",
     "text": [
      "序号\t价格  \t名称          \n",
      "   1\t97.00   \t巴朗双肩包时尚潮流韩版中学生书包\n",
      "   2\t39.90   \t迪卡侬双肩包男女学生书包健身包运动背包轻便2017新款 KIPSTA\n",
      "   3\t149.00  \t双肩包男电脑包休闲防水运动背包男旅行包青年学生书包男时尚潮流\n",
      "   4\t78.00   \t艾奔 双肩包男背包女韩版潮 商务男士电脑包高中学生书包休闲旅行\n",
      "   5\t59.00   \t双肩包男士背包韩版潮流高中学生书包大学生女休闲商务旅行电脑包\n",
      "   6\t59.00   \t迪士尼书包小学生男女1-3-4-6年级米奇减负背包儿童书包8-10-12岁\n",
      "   7\t59.00   \t男背包旅游休闲商务电脑韩版时尚潮流大高中学生书包旅行双肩包\n",
      "   8\t116.00  \t七匹狼男背包初高中校园学生大容量书包男士商务电脑旅行包双肩包\n",
      "   9\t68.00   \t休闲双肩包韩版简约旅行背包电脑男包初中高中学生书包男时尚潮流\n",
      "  10\t49.00   \t双肩包男时尚潮流韩版背包校园电脑包旅行包高中初中学生书包男包\n",
      "  11\t125.00  \t七匹狼商务双肩包男 书包中学生女双肩电脑包 旅行男士背包大容量\n",
      "  12\t69.00   \t2017新款双肩包女牛津布韩版潮百搭背包时尚休闲书包女包包妈咪包\n",
      "  13\t139.00  \t骆特双肩包男时尚潮流韩版背包大学生书包休闲简约电脑包旅行包男\n",
      "  14\t59.00   \t双肩包女2017新款包包女韩版时尚百搭书包简约街头潮流软皮背包女\n",
      "  15\t116.00  \t七匹狼双肩包男学生书包韩版男士背包女生电脑包旅行包潮流大容量\n",
      "  16\t175.00  \t双肩包男士英伦时尚潮流韩版高中大学生书包学院风大容量旅行背包\n",
      "  17\t208.00  \tanello双肩包香港代购乐天妈咪包女书包大容量离家出走包防水背包\n",
      "  18\t119.00  \t七匹狼双肩包男 新款商务男士旅行背包女休闲大容量电脑学生书包\n",
      "  19\t169.00  \tPolo双肩包男 时尚潮流青年书包商务休闲简约PU皮潮韩版男士背包\n",
      "  20\t59.00   \t新款旅行欧美大容量书包户外登山行李袋旅游背包时尚电脑双肩包男\n",
      "  21\t129.00  \t七匹狼商务双肩包男书包中学生女休闲电脑包 旅行男士背包大容量\n",
      "  22\t228.00  \t双肩包男士商务休闲17寸多功能电脑包大容量旅行包防盗出差背包男\n",
      "  23\t208.00  \tanello双肩包日本代购乐天妈咪包女防盗简约大容量书包离家出走包\n",
      "  24\t229.00  \t莱夫帆布小背包女韩版潮2017新款个性百搭双肩包港风街拍书包胸包\n",
      "  25\t59.00   \t双肩包女韩版pu皮时尚休闲百搭迷你小包包2017新款潮书包女士背包\n",
      "  26\t208.00  \tanello双肩包日本代购背包女学生书包乐天妈咪包alleno离家出走包\n",
      "  27\t189.00  \t商务双肩包男17寸电脑包大容量青年短途出差旅行包多功能防盗背包\n",
      "  28\t139.00  \t施维茨男士双肩包大容量背包女商务电脑旅行包休闲潮高中学生书包\n",
      "  29\t59.00   \t背包男旅游双肩包时尚潮流休闲商务电脑包大容量旅行高中学生书包\n",
      "  30\t49.00   \t双肩包男韩版潮流书包大容量高中学生旅行休闲商务电脑旅游男背包\n",
      "  31\t28.90   \t韩版夜光男士休闲旅行包背包双肩包女初中生中学生书包男时尚潮流\n",
      "  32\t129.00  \t瑞戈瑞士军刀旅行双肩包瑞士中学生初中生书包女电脑大学生背包男\n",
      "  33\t134.00  \t赫登尔双肩包男士潮流背包男韩版旅行包时尚休闲学生书包电脑包潮\n",
      "  34\t79.00   \t儿童书包小学生男1-3-4-6年级减负护脊女6-12周岁初中学生双肩包\n",
      "  35\t139.00  \t双肩包男士时尚潮流背包韩版个性书包男大学生运动休闲电脑旅行包\n",
      "  36\t129.00  \t小米双肩包简约休闲多功能书包男女笔记本电脑包时尚潮流旅行背包\n",
      "序号\t价格  \t名称          \n",
      "   1\t97.00   \t巴朗双肩包时尚潮流韩版中学生书包\n",
      "   2\t39.90   \t迪卡侬双肩包男女学生书包健身包运动背包轻便2017新款 KIPSTA\n",
      "   3\t149.00  \t双肩包男电脑包休闲防水运动背包男旅行包青年学生书包男时尚潮流\n",
      "   4\t78.00   \t艾奔 双肩包男背包女韩版潮 商务男士电脑包高中学生书包休闲旅行\n",
      "   5\t59.00   \t双肩包男士背包韩版潮流高中学生书包大学生女休闲商务旅行电脑包\n",
      "   6\t59.00   \t迪士尼书包小学生男女1-3-4-6年级米奇减负背包儿童书包8-10-12岁\n",
      "   7\t59.00   \t男背包旅游休闲商务电脑韩版时尚潮流大高中学生书包旅行双肩包\n",
      "   8\t116.00  \t七匹狼男背包初高中校园学生大容量书包男士商务电脑旅行包双肩包\n",
      "   9\t68.00   \t休闲双肩包韩版简约旅行背包电脑男包初中高中学生书包男时尚潮流\n",
      "  10\t49.00   \t双肩包男时尚潮流韩版背包校园电脑包旅行包高中初中学生书包男包\n",
      "  11\t125.00  \t七匹狼商务双肩包男 书包中学生女双肩电脑包 旅行男士背包大容量\n",
      "  12\t69.00   \t2017新款双肩包女牛津布韩版潮百搭背包时尚休闲书包女包包妈咪包\n",
      "  13\t139.00  \t骆特双肩包男时尚潮流韩版背包大学生书包休闲简约电脑包旅行包男\n",
      "  14\t59.00   \t双肩包女2017新款包包女韩版时尚百搭书包简约街头潮流软皮背包女\n",
      "  15\t116.00  \t七匹狼双肩包男学生书包韩版男士背包女生电脑包旅行包潮流大容量\n",
      "  16\t175.00  \t双肩包男士英伦时尚潮流韩版高中大学生书包学院风大容量旅行背包\n",
      "  17\t208.00  \tanello双肩包香港代购乐天妈咪包女书包大容量离家出走包防水背包\n",
      "  18\t119.00  \t七匹狼双肩包男 新款商务男士旅行背包女休闲大容量电脑学生书包\n",
      "  19\t169.00  \tPolo双肩包男 时尚潮流青年书包商务休闲简约PU皮潮韩版男士背包\n",
      "  20\t59.00   \t新款旅行欧美大容量书包户外登山行李袋旅游背包时尚电脑双肩包男\n",
      "  21\t129.00  \t七匹狼商务双肩包男书包中学生女休闲电脑包 旅行男士背包大容量\n",
      "  22\t228.00  \t双肩包男士商务休闲17寸多功能电脑包大容量旅行包防盗出差背包男\n",
      "  23\t208.00  \tanello双肩包日本代购乐天妈咪包女防盗简约大容量书包离家出走包\n",
      "  24\t229.00  \t莱夫帆布小背包女韩版潮2017新款个性百搭双肩包港风街拍书包胸包\n",
      "  25\t59.00   \t双肩包女韩版pu皮时尚休闲百搭迷你小包包2017新款潮书包女士背包\n",
      "  26\t208.00  \tanello双肩包日本代购背包女学生书包乐天妈咪包alleno离家出走包\n",
      "  27\t189.00  \t商务双肩包男17寸电脑包大容量青年短途出差旅行包多功能防盗背包\n",
      "  28\t139.00  \t施维茨男士双肩包大容量背包女商务电脑旅行包休闲潮高中学生书包\n",
      "  29\t59.00   \t背包男旅游双肩包时尚潮流休闲商务电脑包大容量旅行高中学生书包\n",
      "  30\t49.00   \t双肩包男韩版潮流书包大容量高中学生旅行休闲商务电脑旅游男背包\n",
      "  31\t28.90   \t韩版夜光男士休闲旅行包背包双肩包女初中生中学生书包男时尚潮流\n",
      "  32\t129.00  \t瑞戈瑞士军刀旅行双肩包瑞士中学生初中生书包女电脑大学生背包男\n",
      "  33\t134.00  \t赫登尔双肩包男士潮流背包男韩版旅行包时尚休闲学生书包电脑包潮\n",
      "  34\t79.00   \t儿童书包小学生男1-3-4-6年级减负护脊女6-12周岁初中学生双肩包\n",
      "  35\t139.00  \t双肩包男士时尚潮流背包韩版个性书包男大学生运动休闲电脑旅行包\n",
      "  36\t129.00  \t小米双肩包简约休闲多功能书包男女笔记本电脑包时尚潮流旅行背包\n",
      "  37\t139.00  \t双肩包男电脑包大容量防盗旅行包休闲学生青年背包男书包时尚潮流\n",
      "  38\t107.00  \t老人头双肩包男韩版电脑包潮流女背包休闲大容量旅行包学生书包男\n",
      "  39\t139.00  \t瑞士军刀双肩包男瑞士电脑旅行背包女大容量高中大学初中学生书包\n",
      "  40\t118.00  \t瑞士军刀双肩包瑞士中学生书包女休闲男士商务大容量旅行电脑背包\n",
      "  41\t29.90   \t书包小学生1-2-3-6年级男女生 护脊耐磨轻防水儿童双肩包6-12周岁\n",
      "  42\t116.00  \tzoger双肩包女背包牛津帆布潮2017新款韩版百搭防盗女士旅行包包\n",
      "  43\t46.00   \t休闲男士双肩包男士背包韩版学生书包皮时尚潮流运动旅行电脑包潮\n",
      "  44\t135.88  \t裂狼休闲双肩包男士韩版潮流皮背包男时尚学生书包旅行包电脑男包\n",
      "  45\t59.00   \t双肩包女包韩版时尚百搭迷你小包包2017新款潮牛津布帆布女士背包\n",
      "  46\t62.00   \t2017新款尼龙牛津布双肩包女韩版潮百搭时尚背包学院风书包妈咪包\n",
      "  47\t59.00   \t初中学生书包男时尚潮流韩版校园双肩包大容量旅行包休闲男士背包\n",
      "  48\t108.00  \t大容量商务旅行包瑞士军刀双肩包瑞士背包男士高中学生书包电脑包\n",
      "  49\t148.00  \t裂狼时尚潮流皮男双肩包休闲男包旅行大容量男士背包时尚学生书包\n",
      "  50\t65.00   \t时尚背包牛津布休闲双肩包女小韩版妈咪书包包潮百搭软皮2017新款\n",
      "  51\t44.90   \t双肩包女韩版2017新款潮女包包时尚百搭软皮个性学生书包妈咪背包\n",
      "  52\t119.00  \t瑞士双肩包男士瑞士军刀瑞戈旅行背包女中学生书包休闲电脑旅游包\n",
      "  53\t68.00   \t高中学生书包男时尚潮流韩版休闲双肩包大学生初中生旅行校园背包\n",
      "  54\t203.00  \t日本anello双肩包女防盗书包乐天男背包妈咪包离家出走包alleno潮\n",
      "  55\t98.00   \t巴朗商务双肩包男电脑韩版背包新款简约时尚潮流书包大容量旅行包\n",
      "  56\t179.00  \t双肩包男士商务休闲多功能大容量旅行包17寸电脑包出差大背包男\n",
      "  57\t69.00   \t小样幼儿园书包儿童书包1-3-5岁男女童双肩包迷你宝宝防走失背包\n",
      "  58\t156.00  \t皓顿背包双肩包男士休闲旅行多功能大容量时尚潮流书包商务包男\n",
      "  59\t88.00   \t迪士尼书包小学生1-3-5男童四五六女双肩4-6年级儿童背包米奇书包\n",
      "  60\t107.00  \t老人头双肩包男时尚潮流多功能商务背包女学生书包大容量旅行包男\n",
      "  61\t69.00   \t双肩包女韩版时尚百搭个性休闲包包2017新款潮pu软皮书包妈咪背包\n",
      "  62\t125.00  \t七匹狼双肩包男商务背包男士旅行休闲出差时尚潮流电脑书包大容量\n",
      "  63\t58.80   \t商务背包男士双肩包韩版潮流旅行包休闲女学生书包简约时尚电脑包\n",
      "  64\t59.00   \t妈咪包牛津布双肩包女韩版2017新款学生书包帆布时尚百搭潮小背包\n",
      "  65\t105.00  \t韩国kk树书包小学生男1-3-4-6年级儿童书包女6-12周岁双肩包护脊\n",
      "  66\t49.00   \t背包男士帆布休闲旅行包韩版校园书包时尚潮流学生简约青年双肩包\n",
      "  67\t79.00   \t书包女中学生2017新款韩版校园百搭大容量帆布学院风甜甜圈双肩包\n",
      "  68\t108.00  \t瑞士军刀双肩包男女背包商务旅行包瑞士军刀包17寸电脑包学生书包\n",
      "  69\t99.00   \t密梵男士双肩包时尚潮流背包韩版商务休闲旅行皮电脑包大学生书包\n",
      "  70\t48.00   \t小学生书包6-12周岁 女儿童双肩包 3-5年级女童背包 1-3年级女孩\n",
      "  71\t89.00   \t米熙休闲运动背包双肩包女书包中学生男时尚潮流大容量旅游旅行包\n",
      "  72\t49.00   \t80L新款超大容量登山包户外双肩包男女旅行包特大背包旅游包防水\n",
      "  73\t118.00  \t诺狐婴幼儿园书包男女宝宝1-3周岁防走失背包儿童书包卡通童包\n",
      "  74\t9.50    \t厂家新款幼儿园书包定做批发印字logo男女儿童书包3-6岁定制包邮\n",
      "  75\t158.00  \t小学生书包女孩1-3-4-5-6一年级三四五儿童双肩减负护脊背包女童\n",
      "  76\t118.00  \t双肩包男简约男士背包英伦韩版电脑包女旅行防盗学生书包时尚潮流\n",
      "  77\t13.90   \t幼儿园书包印字厂家定做培训班男女小宝宝儿童双肩背包定制印LOGO\n",
      "  78\t118.00  \t瑞士军刀双肩包男士商务电脑包旅行大容量瑞士背包休闲潮学生书包\n",
      "  79\t1080.00 \t美国代购Tory Burch TB女包荔枝纹双肩包学生包旅游书包\n",
      "  80\t49.00   \t休闲双肩包男韩版大高初中学生书包时尚潮流大容量旅行旅游背包男\n"
     ]
    }
   ],
   "source": [
    "import requests\n",
    "import re\n",
    "def getHTMLText(url):\n",
    "    try:\n",
    "        r = requests.get(url)\n",
    "        r.raise_for_status()\n",
    "        r.encoding = r.apparent_encoding\n",
    "        return r.text\n",
    "    except:\n",
    "        print \"Failed\"\n",
    "\n",
    "def parsePage(ilt, html):\n",
    "    try:\n",
    "        plt = re.findall(r'\\\"view_price\\\"\\:\\\"[\\d\\.]*\\\"',html)\n",
    "        tlt = re.findall(r'\\\"raw_title\\\"\\:\\\".*?\\\"',html)\n",
    "        for i in range(len(plt)):\n",
    "            price = eval(plt[i].split(':')[1])\n",
    "            title = eval(tlt[i].split(':')[1])\n",
    "            ilt.append([price , title])\n",
    "    except:\n",
    "        print(\"\")\n",
    "\n",
    "def printGoodsList(ilt):\n",
    "    tplt = \"{:4}\\t{:8}\\t{:16}\"\n",
    "    print(tplt.format(\"序号\",\"价格\",\"名称\"))\n",
    "    count = 0\n",
    "    for g in ilt:\n",
    "        count = count + 1\n",
    "        print(tplt.format(count,g[0],g[1]))\n",
    "    \n",
    "def main():\n",
    "    goods = \"书包\"\n",
    "    depth = 2\n",
    "    start_url = 'https://s.taobao.com/search?q=' + goods\n",
    "    infolist = []\n",
    "    for i in range(depth):\n",
    "        try:\n",
    "            url = start_url + '&s=' + str(44*i)\n",
    "            html = getHTMLText(url)\n",
    "            parsePage(infolist,html)\n",
    "        except:\n",
    "            continue\n",
    "        printGoodsList(infolist)\n",
    "main()"
   ]
  },
  {
   "cell_type": "markdown",
   "metadata": {},
   "source": [
    "# 股票信息"
   ]
  },
  {
   "cell_type": "code",
   "execution_count": 11,
   "metadata": {},
   "outputs": [],
   "source": [
    "import requests\n",
    "import re\n",
    "from bs4 import BeautifulSoup\n",
    "import traceback"
   ]
  },
  {
   "cell_type": "code",
   "execution_count": 12,
   "metadata": {},
   "outputs": [
    {
     "ename": "IndentationError",
     "evalue": "unexpected unindent (<ipython-input-12-c8e3f5123ae7>, line 18)",
     "output_type": "error",
     "traceback": [
      "\u001b[0;36m  File \u001b[0;32m\"<ipython-input-12-c8e3f5123ae7>\"\u001b[0;36m, line \u001b[0;32m18\u001b[0m\n\u001b[0;31m    def getStockInfo(lst,stockUrl,fpath):\u001b[0m\n\u001b[0m                                         ^\u001b[0m\n\u001b[0;31mIndentationError\u001b[0m\u001b[0;31m:\u001b[0m unexpected unindent\n"
     ]
    }
   ],
   "source": [
    "def getHTMLText(url):\n",
    "    try:\n",
    "        r = requests.get(url)\n",
    "        r.raise_for_status()\n",
    "        r.encoding = r.apparent_encoding\n",
    "        return r.test\n",
    "    except:\n",
    "        print \"\"\n",
    "\n",
    "def getStockList(lst,stockUrl):\n",
    "    html = getHTMLText(stockUrl)\n",
    "    soup = BeautifulSoup(html,'html.parser')\n",
    "    a = soup.find_all('a')\n",
    "    for i in a:\n",
    "        try:\n",
    "            href = i.attrs['href']\n",
    "\n",
    "def getStockInfo(lst,stockUrl,fpath):\n",
    "    pass\n",
    "\n",
    "def main():\n",
    "    stock_list_url = 'http://quote.eastmoney.com/stocklist.html'\n",
    "    stock_info_url = 'https://gupiao.baidu.com/stock/'\n",
    "    output_file = './BaiduStockInfo.txt'\n",
    "    slist = []\n",
    "    getStockList(slist,stock_list_url)\n",
    "    getStockInfo(slist,stock_info_url,output_file)"
   ]
  },
  {
   "cell_type": "code",
   "execution_count": null,
   "metadata": {},
   "outputs": [],
   "source": []
  }
 ],
 "metadata": {
  "kernelspec": {
   "display_name": "Python 2",
   "language": "python",
   "name": "python2"
  },
  "language_info": {
   "codemirror_mode": {
    "name": "ipython",
    "version": 2
   },
   "file_extension": ".py",
   "mimetype": "text/x-python",
   "name": "python",
   "nbconvert_exporter": "python",
   "pygments_lexer": "ipython2",
   "version": "2.7.14"
  },
  "toc": {
   "colors": {
    "hover_highlight": "#DAA520",
    "navigate_num": "#000000",
    "navigate_text": "#333333",
    "running_highlight": "#FF0000",
    "selected_highlight": "#FFD700",
    "sidebar_border": "#EEEEEE",
    "wrapper_background": "#FFFFFF"
   },
   "moveMenuLeft": true,
   "nav_menu": {
    "height": "12px",
    "width": "252px"
   },
   "navigate_menu": true,
   "number_sections": true,
   "sideBar": true,
   "threshold": 4,
   "toc_cell": false,
   "toc_section_display": "block",
   "toc_window_display": true,
   "widenNotebook": false
  }
 },
 "nbformat": 4,
 "nbformat_minor": 2
}
